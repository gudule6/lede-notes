{
 "cells": [
  {
   "cell_type": "markdown",
   "metadata": {},
   "source": [
    "#Do now 3: Reviewing dictionaries, lists, CSVs\n"
   ]
  },
  {
   "cell_type": "markdown",
   "metadata": {},
   "source": [
    "*Explained step by step (by Fanny Giroud)*\n",
    "___"
   ]
  },
  {
   "cell_type": "markdown",
   "metadata": {},
   "source": [
    "1) Print the 3rd element of a list called dogs.\n",
    "\n",
    "`dogs = ['dollyparton', 'charlemagn', 'hemingway']\n",
    "print dogs[2]`\n",
    "\n",
    "*Remember? Counting from zero in lists!*\n"
   ]
  },
  {
   "cell_type": "markdown",
   "metadata": {},
   "source": [
    "#Loop in a loop"
   ]
  },
  {
   "cell_type": "markdown",
   "metadata": {},
   "source": [
    "Loops are beautiful! They might hurt your head at first though (like this thing below):\n",
    "![alt text](https://static.fjcdn.com/gifs/Stuck_bf31eb_519226.gif \"Amusing loop gif\")\n"
   ]
  },
  {
   "cell_type": "markdown",
   "metadata": {},
   "source": [
    "A lot of people don't understand the concept of the loop in a loop. It might take a few attempts, so no panic. Remember this: lists have an order: it's one item after another. Now let's take a look at it: "
   ]
  },
  {
   "cell_type": "markdown",
   "metadata": {},
   "source": [
    "2) What is the output of the following code?"
   ]
  },
  {
   "cell_type": "code",
   "execution_count": 2,
   "metadata": {
    "collapsed": false
   },
   "outputs": [
    {
     "name": "stdout",
     "output_type": "stream",
     "text": [
      "1 green\n",
      "2 green\n",
      "3 green\n",
      "4 green\n",
      "1 blue\n",
      "2 blue\n",
      "3 blue\n",
      "4 blue\n"
     ]
    }
   ],
   "source": [
    "numbers = [ 1, 2, 3, 4]\n",
    "colors = [ \"green\", \"blue\" ]\n",
    "for color in colors:\n",
    "\tfor number in numbers:\n",
    "\t\tprint number, color"
   ]
  },
  {
   "cell_type": "markdown",
   "metadata": {},
   "source": [
    "Think of the loop as a scan through a list. It is a great tool to apply multiple filters to a list of things. It is the first step of analyzing data!"
   ]
  },
  {
   "cell_type": "markdown",
   "metadata": {},
   "source": [
    "# Getting to know the .csv extension\n",
    "\n",
    "3) What command would you use to get the first 100 lines of data.csv, and save it into a new file named sample.csv? Here is how (make sure to learn this by heartt...)"
   ]
  },
  {
   "cell_type": "markdown",
   "metadata": {},
   "source": [
    "`head -n 100 data.csv > sample.csv`\n",
    "\n",
    "You can do the same with \"tail -n\" to get the last lines of a csv.\n"
   ]
  },
  {
   "cell_type": "markdown",
   "metadata": {},
   "source": [
    "● Here is a file called lists.csv \n",
    "\n",
    "| make       | year  | color  |\n",
    "| ---------- |:-----:| ------:|\n",
    "| Chevrolet  | 2011  | black  |\n",
    "| Honda      | 2010  | red    |\n",
    "| Honda      | 2013  | black  |\n",
    "| Toyota     | 2001  | gold   |"
   ]
  },
  {
   "cell_type": "markdown",
   "metadata": {
    "collapsed": true
   },
   "source": [
    "4) Here is how you go from the .csv file to a list of dictionaries to work on:\n"
   ]
  },
  {
   "cell_type": "markdown",
   "metadata": {},
   "source": [
    "`import csv`\n",
    "\n",
    "*(We are importing a module from a library to help us work on .csv files)* \n",
    "\n",
    "`file = open(\"lists.csv\")`\n",
    "\n",
    "*(We open the .csv file)*\n",
    "\n",
    "`cars = csv.DictReader(file)`\n",
    "\n",
    "*(We transform it into a group of dictionaries)*\n",
    "\n",
    "`list_of_cars = list(cars)`\n",
    "\n",
    "*(We make sure to organize the dictionaries into a nice clean list)*"
   ]
  },
  {
   "cell_type": "markdown",
   "metadata": {},
   "source": [
    "5) Write a for loop to add up all of the years. Save it to a variable called total (I'm not exactly sure how to, but I'll find out soon. Maybe this:\n",
    "\n",
    "** To improve!**"
   ]
  },
  {
   "cell_type": "markdown",
   "metadata": {},
   "source": [
    "`total = sum(list_of_cars['year']) for car in list_of_cars`"
   ]
  },
  {
   "cell_type": "markdown",
   "metadata": {},
   "source": [
    "# Sneak peak at how comprenhension lists work\n",
    "6) I'd like a new list called favorites that includes all cars that are black or produced after 2010. Write a for loop to create this list.\n",
    "\n",
    "`favorites = [car for car[‘year’] > 2010 or car[‘color’] == ‘black’]`\n"
   ]
  },
  {
   "cell_type": "markdown",
   "metadata": {},
   "source": [
    "● Comprehension lists are another way to make your loop code shorter and faster. Here, we could have used two for loops, but it would have been a longer code and a longer runtime."
   ]
  }
 ],
 "metadata": {
  "kernelspec": {
   "display_name": "Python 2",
   "language": "python",
   "name": "python2"
  },
  "language_info": {
   "codemirror_mode": {
    "name": "ipython",
    "version": 2
   },
   "file_extension": ".py",
   "mimetype": "text/x-python",
   "name": "python",
   "nbconvert_exporter": "python",
   "pygments_lexer": "ipython2",
   "version": "2.7.9"
  }
 },
 "nbformat": 4,
 "nbformat_minor": 0
}
