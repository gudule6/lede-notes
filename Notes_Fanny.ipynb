{
 "cells": [
  {
   "cell_type": "markdown",
   "metadata": {},
   "source": [
    "# NOTES"
   ]
  },
  {
   "cell_type": "markdown",
   "metadata": {},
   "source": [
    "**(  (  (  Python's things I had to figure out on my own  )  )  )**\n",
    "\n",
    "*by Fanny Giroud*\n"
   ]
  },
  {
   "cell_type": "markdown",
   "metadata": {},
   "source": [
    "___\n",
    "You will find here a few tips to help you through the process of learning Python's basics.  They are organized in 4 lessons, to match the Do-Now's organization. I have included \"To improve\" sections where I still have uncertainties."
   ]
  },
  {
   "cell_type": "markdown",
   "metadata": {},
   "source": [
    "(  (  (  Index  )  )  )\n",
    "\n",
    "**1. Monday, June 1st**\n",
    "\n",
    "Tips for beginners that will make all the difference\n",
    "\n",
    "**2: Wednesday June 3rd **\n",
    "\n",
    "Playing around with lists and dictionaries\n",
    "\n",
    "**3: Monday June 8th **\n",
    "\n",
    "Becoming an expert at using lists and dictionaries\n",
    "\n",
    "**4: Wednesday June 10th **\n",
    "\n",
    "Reviewing dictionaries, lists, CSVs because it's hard¶\n",
    "\n",
    "**5: Extras**\n",
    "\n",
    "How to create an ipython notebook \n",
    "\n",
    "___"
   ]
  },
  {
   "cell_type": "markdown",
   "metadata": {
    "collapsed": true
   },
   "source": [
    "##Monday, June 1st"
   ]
  },
  {
   "cell_type": "markdown",
   "metadata": {},
   "source": [
    "**Tips for beginners that will make all the difference**"
   ]
  },
  {
   "cell_type": "markdown",
   "metadata": {},
   "source": [
    "On a German keyboard:\n",
    "\n",
    "`[]` is alt+5, alt+6 *(square brackets)*\n",
    "\n",
    "`{}` is alt+8, alt+9 *(curly brackets)*\n",
    "\n",
    "`∼` is accesible in your special characters (ctrl+cmd+space on my Mac) *tilde operator*\n",
    "_____"
   ]
  },
  {
   "cell_type": "markdown",
   "metadata": {},
   "source": [
    "● You can't add different types of variables, but you can use the comma to display them together."
   ]
  },
  {
   "cell_type": "code",
   "execution_count": 1,
   "metadata": {
    "collapsed": false
   },
   "outputs": [
    {
     "name": "stdout",
     "output_type": "stream",
     "text": [
      "hotdog\n"
     ]
    }
   ],
   "source": [
    "print \"hot\" + \"dog\""
   ]
  },
  {
   "cell_type": "code",
   "execution_count": 2,
   "metadata": {
    "collapsed": false
   },
   "outputs": [
    {
     "ename": "TypeError",
     "evalue": "cannot concatenate 'str' and 'int' objects",
     "output_type": "error",
     "traceback": [
      "\u001b[0;31m---------------------------------------------------------------------------\u001b[0m",
      "\u001b[0;31mTypeError\u001b[0m                                 Traceback (most recent call last)",
      "\u001b[0;32m<ipython-input-2-3837527c0d59>\u001b[0m in \u001b[0;36m<module>\u001b[0;34m()\u001b[0m\n\u001b[0;32m----> 1\u001b[0;31m \u001b[0;32mprint\u001b[0m \u001b[0;34m\"hot\"\u001b[0m \u001b[0;34m+\u001b[0m \u001b[0;36m1\u001b[0m\u001b[0;34m\u001b[0m\u001b[0m\n\u001b[0m",
      "\u001b[0;31mTypeError\u001b[0m: cannot concatenate 'str' and 'int' objects"
     ]
    }
   ],
   "source": [
    "print \"hot\" + 1"
   ]
  },
  {
   "cell_type": "code",
   "execution_count": 3,
   "metadata": {
    "collapsed": false
   },
   "outputs": [
    {
     "name": "stdout",
     "output_type": "stream",
     "text": [
      "3\n"
     ]
    }
   ],
   "source": [
    "print 1 + 2"
   ]
  },
  {
   "cell_type": "code",
   "execution_count": 4,
   "metadata": {
    "collapsed": false
   },
   "outputs": [
    {
     "name": "stdout",
     "output_type": "stream",
     "text": [
      "hot dog\n"
     ]
    }
   ],
   "source": [
    "print \"hot\", \"dog\""
   ]
  },
  {
   "cell_type": "code",
   "execution_count": 5,
   "metadata": {
    "collapsed": false
   },
   "outputs": [
    {
     "name": "stdout",
     "output_type": "stream",
     "text": [
      "hot 1\n"
     ]
    }
   ],
   "source": [
    "print \"hot\", 1"
   ]
  },
  {
   "cell_type": "code",
   "execution_count": 6,
   "metadata": {
    "collapsed": false
   },
   "outputs": [
    {
     "name": "stdout",
     "output_type": "stream",
     "text": [
      "1 1\n"
     ]
    }
   ],
   "source": [
    "print 1,1"
   ]
  },
  {
   "cell_type": "markdown",
   "metadata": {},
   "source": [
    "_____"
   ]
  },
  {
   "cell_type": "markdown",
   "metadata": {},
   "source": [
    "##Wednesday June 3rd"
   ]
  },
  {
   "cell_type": "markdown",
   "metadata": {},
   "source": [
    "**Playing around with lists and dictionaries**\n",
    "\n"
   ]
  },
  {
   "cell_type": "markdown",
   "metadata": {},
   "source": [
    "It looks like you will have better grades if you keep your code short (and harder to understand for others). Like you can have :\n"
   ]
  },
  {
   "cell_type": "code",
   "execution_count": 7,
   "metadata": {
    "collapsed": false
   },
   "outputs": [
    {
     "name": "stdout",
     "output_type": "stream",
     "text": [
      "andrea\n",
      "charles\n",
      "babu\n"
     ]
    }
   ],
   "source": [
    "data = {'charles': 1, 'babu': 3, 'andrea': 5}\n",
    "zip_code = data.keys()\n",
    "for zip in zip_code :\n",
    "    print zip"
   ]
  },
  {
   "cell_type": "markdown",
   "metadata": {},
   "source": [
    "But it's more elegant to write:"
   ]
  },
  {
   "cell_type": "code",
   "execution_count": 8,
   "metadata": {
    "collapsed": false
   },
   "outputs": [
    {
     "name": "stdout",
     "output_type": "stream",
     "text": [
      "andrea\n",
      "charles\n",
      "babu\n"
     ]
    }
   ],
   "source": [
    "for zip in data.keys() :\n",
    "    print zip"
   ]
  },
  {
   "cell_type": "markdown",
   "metadata": {},
   "source": [
    "___\n"
   ]
  },
  {
   "cell_type": "markdown",
   "metadata": {},
   "source": [
    "● Beware of similar keys in a dictionary: you may loose items if you have similar keys.\n"
   ]
  },
  {
   "cell_type": "markdown",
   "metadata": {},
   "source": [
    "● It's important to realize that lists have an order and dictionaries don't. It means that you can only access something in a dictionary if you have another information on the item."
   ]
  },
  {
   "cell_type": "markdown",
   "metadata": {},
   "source": [
    "● Unlike other languages, it looks like you can't have \"`;`\" in Python. Or not yet...\n",
    "___\n"
   ]
  },
  {
   "cell_type": "markdown",
   "metadata": {},
   "source": [
    "**To improve:** It's really hard to have a mental picture of what a dictionary is. I'm still not sure how to at this point, even though I have figured out how to access them. Lists are way more fun. Also, can you have multiple values for one key, and how does it work? Is it a dictionary in a dictionary? I guess we will find out soon enough.\n",
    "___\n",
    "\n",
    "\n"
   ]
  },
  {
   "cell_type": "markdown",
   "metadata": {
    "collapsed": true
   },
   "source": [
    "##Monday June 8th"
   ]
  },
  {
   "cell_type": "markdown",
   "metadata": {},
   "source": [
    "**Becoming an expert at using lists and dictionaries**"
   ]
  },
  {
   "cell_type": "markdown",
   "metadata": {},
   "source": [
    "● The file extension .csv stands for \"comma separated data\" and it's the format you want when you want to have data to analyze. These files can be huge and it makes things hard for beginners. So why not take a part of the list and put it in a new file, so you can try your loops without waiting times?"
   ]
  },
  {
   "cell_type": "markdown",
   "metadata": {},
   "source": [
    "● Looping inside of a loop through a big set of data will take time and slow you down. Try to clean your code to minimize the number of loops and get the most out of one loop.\n",
    "\n",
    "___"
   ]
  },
  {
   "cell_type": "markdown",
   "metadata": {},
   "source": [
    "**To improve:** Not sure how to do this exactly... \n",
    "    5) Write a for loop to add up all of the years. Save it to a variable called total\n",
    "Maybe this?\n",
    "\n",
    "`total = sum(list_of_cars['year'])`\n",
    "\n",
    "or this?\n",
    "\n",
    "`bill = 0\n",
    "total = [bill + list_of_cars['year'] for car in list_of_cars]`\n",
    "___\n"
   ]
  },
  {
   "cell_type": "markdown",
   "metadata": {
    "collapsed": true
   },
   "source": [
    "##Wednesday June 10th\n"
   ]
  },
  {
   "cell_type": "markdown",
   "metadata": {},
   "source": [
    "**Reviewing: dictionaries, lists, CSVs because it's hard**"
   ]
  },
  {
   "cell_type": "markdown",
   "metadata": {},
   "source": [
    "● Even if it is tempting to try to access a dictionary first entry, you can't: dictionaries don't have an order. They won't know what you are asking for. You have to create a list out of a dictionary first."
   ]
  },
  {
   "cell_type": "markdown",
   "metadata": {},
   "source": [
    "● In order to shorten your code, try to eliminate loops and access dictionary's entries by the keys or the values. Like in this example:\n",
    "\n",
    "`print sum(murders[county] for county in murders.keys())`\n",
    "___"
   ]
  },
  {
   "cell_type": "markdown",
   "metadata": {},
   "source": [
    "● **To improve:** understand the mathematical reasoning behind the round/float functions to get percentages."
   ]
  },
  {
   "cell_type": "markdown",
   "metadata": {},
   "source": [
    "#How to create an ipython notebook"
   ]
  },
  {
   "cell_type": "markdown",
   "metadata": {},
   "source": [
    "● When in Terminal, open a new window ('Shell/New window')"
   ]
  },
  {
   "cell_type": "markdown",
   "metadata": {},
   "source": [
    "● Type `ipython notebook`and hit enter"
   ]
  },
  {
   "cell_type": "markdown",
   "metadata": {},
   "source": [
    "● You will see your browser open a new tab or window and display a folder of with all the files in your working directory."
   ]
  },
  {
   "cell_type": "markdown",
   "metadata": {},
   "source": [
    "● To create your own brand news python notebook, go to \"New\" and select \"Python 2\". You know have an empty page to have fun with! "
   ]
  },
  {
   "cell_type": "markdown",
   "metadata": {},
   "source": [
    "First thing to know: you can write text as code or as markdown (commentary). You have to choose for every cell what you want (look at the tool bar)."
   ]
  },
  {
   "cell_type": "markdown",
   "metadata": {},
   "source": [
    "Markdown is a language that helps you to make notes on a document (like commentaries for code!). You can find out how the basic formatting rules work [here](https://github.com/adam-p/markdown-here/wiki). Have fun experimenting!"
   ]
  },
  {
   "cell_type": "code",
   "execution_count": null,
   "metadata": {
    "collapsed": true
   },
   "outputs": [],
   "source": []
  }
 ],
 "metadata": {
  "kernelspec": {
   "display_name": "Python 2",
   "language": "python",
   "name": "python2"
  },
  "language_info": {
   "codemirror_mode": {
    "name": "ipython",
    "version": 2
   },
   "file_extension": ".py",
   "mimetype": "text/x-python",
   "name": "python",
   "nbconvert_exporter": "python",
   "pygments_lexer": "ipython2",
   "version": "2.7.9"
  }
 },
 "nbformat": 4,
 "nbformat_minor": 0
}
