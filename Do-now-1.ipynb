{
 "cells": [
  {
   "cell_type": "markdown",
   "metadata": {},
   "source": [
    "# Do Now #1: **Reviewing variables, casting, if statements**\n",
    "\n"
   ]
  },
  {
   "cell_type": "markdown",
   "metadata": {},
   "source": [
    "*Explained step by step (by Fanny Giroud)*\n",
    "___"
   ]
  },
  {
   "cell_type": "markdown",
   "metadata": {},
   "source": [
    "Hello, collegues and friends! Here is a little review of what we have learned in our Python class so far! Take 3 deep breaths and enjoy!"
   ]
  },
  {
   "cell_type": "markdown",
   "metadata": {},
   "source": [
    "● If this is your first coding attempt, take some chocolate or just cigarettes with you. If you need to cry, these good old friends will be there to comfort you."
   ]
  },
  {
   "cell_type": "markdown",
   "metadata": {},
   "source": [
    "● Before you start coding, get familiar with your computer - where things get downloaded, or what kind of keyboard you have. Find out how to type the following ones, because they are about to become your new best friends:"
   ]
  },
  {
   "cell_type": "markdown",
   "metadata": {},
   "source": [
    "`[] {} # : ∼`\n",
    "\n"
   ]
  },
  {
   "cell_type": "markdown",
   "metadata": {},
   "source": [
    "● Install the free text editor Sublime Text 2, where you will be typing your code. Create a file and give it a name and the extension .py, put it in a new work directory."
   ]
  },
  {
   "cell_type": "markdown",
   "metadata": {},
   "source": [
    "● Open the Terminal of your computer, by looking for it in your spotlight search (Mac) or in your applications. It will be where you test your code."
   ]
  },
  {
   "cell_type": "markdown",
   "metadata": {},
   "source": [
    "● Don't be afraid of the Terminal, it's only trying to help you."
   ]
  },
  {
   "cell_type": "markdown",
   "metadata": {},
   "source": [
    "#Lines of command for the Terminal"
   ]
  },
  {
   "cell_type": "raw",
   "metadata": {},
   "source": [
    "● The Terminal always has weird things written in it. Don't freak out. Try to see what part of your computer the Terminal is \"visiting\" right now, by entering `pwd` (for \"print working directory\") and hit enter. \n",
    "● If you are in \"User\", for example, you are off to a good start. Try `ls` (for \"list stuff\") to get a list of the files available in this directory, and go to one of them (Desktop, in this example) by typing `cd Desktop` (\"change directory\"). \n",
    "● Create an empty folder to start working in it and then go there with the Terminal (`cd file_name`). If you need to go back up one folder, type `cd ..`(with a space in between). "
   ]
  },
  {
   "cell_type": "markdown",
   "metadata": {},
   "source": [
    "● It's already complicated right? If you feel lost (I did), there is some proper documentation about lines of command [here](http://learncodethehardway.org/cli/book/cli-crash-course.html#command-line-crash-course) to help you do this important first step right. Take your time!\n"
   ]
  },
  {
   "cell_type": "markdown",
   "metadata": {},
   "source": [
    "# 1) Given the following code, what is the output?\n",
    "\n"
   ]
  },
  {
   "cell_type": "markdown",
   "metadata": {},
   "source": [
    "● Now let's have some fun. Type the code belowe in your Sublime Text file. To run your code, type `python file_name.py` in your Terminal and look at the result:"
   ]
  },
  {
   "cell_type": "code",
   "execution_count": 9,
   "metadata": {
    "collapsed": false
   },
   "outputs": [
    {
     "name": "stdout",
     "output_type": "stream",
     "text": [
      "25\n",
      "5\n",
      "catdog\n",
      "cat dog\n"
     ]
    }
   ],
   "source": [
    "i = 5\n",
    "print 5 * 5\n",
    "print i\n",
    "print \"cat\" + \"dog\"\n",
    "print \"cat\", \"dog\"\n"
   ]
  },
  {
   "cell_type": "markdown",
   "metadata": {},
   "source": [
    "● There are 2 types of variables: integers (for numbers) and strings (for text). You can tell which on is which because strings are always in quotes (simple or double, just be consistent in each string). You can write \"cat\" or 'cat'. "
   ]
  },
  {
   "cell_type": "markdown",
   "metadata": {},
   "source": [
    "● `print()` is a function which needs an argument in the parenthesis. What it does is display what is in the parenthesis and it allows you to see the result of an operation like 5 * 5 (it will display 25)."
   ]
  },
  {
   "cell_type": "markdown",
   "metadata": {},
   "source": [
    "● If you need a new variable (to store the result of an operation, for example), just invent it and give it a value, like in `i = 5`. If you get confused, remember that the value on the right is always going to be stored in the variable on the left."
   ]
  },
  {
   "cell_type": "markdown",
   "metadata": {},
   "source": [
    "#2a) The code below doesn't work. Why not?\n"
   ]
  },
  {
   "cell_type": "code",
   "execution_count": 1,
   "metadata": {
    "collapsed": false
   },
   "outputs": [
    {
     "ename": "TypeError",
     "evalue": "unsupported operand type(s) for +: 'int' and 'str'",
     "output_type": "error",
     "traceback": [
      "\u001b[0;31m---------------------------------------------------------------------------\u001b[0m",
      "\u001b[0;31mTypeError\u001b[0m                                 Traceback (most recent call last)",
      "\u001b[0;32m<ipython-input-1-a93828e7d052>\u001b[0m in \u001b[0;36m<module>\u001b[0;34m()\u001b[0m\n\u001b[0;32m----> 1\u001b[0;31m \u001b[0;32mprint\u001b[0m \u001b[0;36m5\u001b[0m \u001b[0;34m+\u001b[0m \u001b[0;34m\"cat\"\u001b[0m\u001b[0;34m\u001b[0m\u001b[0m\n\u001b[0m",
      "\u001b[0;31mTypeError\u001b[0m: unsupported operand type(s) for +: 'int' and 'str'"
     ]
    }
   ],
   "source": [
    "print 5 + \"cat\""
   ]
  },
  {
   "cell_type": "markdown",
   "metadata": {},
   "source": [
    "● In order to print two things, you can use the `+` or the `,` (this last option adds a space in between), but you can't use the `+` in between two different types of variables, like an integer and a string in this example above."
   ]
  },
  {
   "cell_type": "markdown",
   "metadata": {},
   "source": [
    "#2b) There are several ways to make it work! Give two possible changes and what the output would be in each case.\n"
   ]
  },
  {
   "cell_type": "code",
   "execution_count": 5,
   "metadata": {
    "collapsed": false
   },
   "outputs": [
    {
     "name": "stdout",
     "output_type": "stream",
     "text": [
      "10\n",
      "5 + 5\n"
     ]
    }
   ],
   "source": [
    "print 5 + 5\n",
    "print \"5 + 5\""
   ]
  },
  {
   "cell_type": "markdown",
   "metadata": {},
   "source": [
    "● The integers (no quotes) get summed and the strings (with quotes) just get printed."
   ]
  },
  {
   "cell_type": "markdown",
   "metadata": {},
   "source": [
    "#3) What is wrong with the following if statement?\n",
    "\n",
    "`if n = 2:\n",
    "  print \"Two\"`\n"
   ]
  },
  {
   "cell_type": "markdown",
   "metadata": {},
   "source": [
    "● When you are testing an equality, you need to use `==` instead of `=`. The single `=` is only used to put a value (on the right) into a variable (on the left). This was the main cause of error in my code for 2 weeks!"
   ]
  },
  {
   "cell_type": "markdown",
   "metadata": {},
   "source": [
    "● So what we should probably type instead is: \n"
   ]
  },
  {
   "cell_type": "markdown",
   "metadata": {},
   "source": [
    "`if n == 2 :\n",
    "    print \"Two\"`"
   ]
  },
  {
   "cell_type": "markdown",
   "metadata": {},
   "source": [
    "# 4) Given the following code, what would the output be for n = 0, 10, -1, 3, and -5 ?"
   ]
  },
  {
   "cell_type": "markdown",
   "metadata": {},
   "source": [
    "`print n\n",
    "if n > 0:\n",
    "  print \"A\"\n",
    "  if n >= 3:\n",
    "    print \"B\"\n",
    "    print \"C\"\n",
    "  elif n > 2:\n",
    "    print \"D\"\n",
    "  else:\n",
    "    print \"E\"\n",
    "elif 1 > n > -2:\n",
    "  print \"F\"\n",
    "else:\n",
    "`"
   ]
  },
  {
   "cell_type": "markdown",
   "metadata": {},
   "source": [
    "● What you need to know: indentation is VERY important, it tells you what to do. It tells you where you can go: when you have \"if\", \"elif\" or \"else\" in the same indentation, you can only choose one of them. You have to go through all the \"if\" with the same indentation, though."
   ]
  },
  {
   "cell_type": "markdown",
   "metadata": {},
   "source": [
    "...if you do the test above, the display is as follow:\n"
   ]
  },
  {
   "cell_type": "markdown",
   "metadata": {},
   "source": [
    "`0FH\n",
    "10ABC\n",
    "-1FH\n",
    "3ABCDH\n",
    "-5GH`\n"
   ]
  },
  {
   "cell_type": "markdown",
   "metadata": {},
   "source": [
    "● \"If statements\" are tricky at first; for more explanations there is a decent documentation [here](http://www.openbookproject.net/books/bpp4awd/ch04.html)"
   ]
  },
  {
   "cell_type": "markdown",
   "metadata": {
    "collapsed": true
   },
   "source": [
    "● Very useful tip that you will use all the time: if anything is unclear, look for an answer in Google by typing \"python\" + words that summerize your request. You will eventually find an answer to your taste."
   ]
  }
 ],
 "metadata": {
  "kernelspec": {
   "display_name": "Python 2",
   "language": "python",
   "name": "python2"
  },
  "language_info": {
   "codemirror_mode": {
    "name": "ipython",
    "version": 2
   },
   "file_extension": ".py",
   "mimetype": "text/x-python",
   "name": "python",
   "nbconvert_exporter": "python",
   "pygments_lexer": "ipython2",
   "version": "2.7.9"
  }
 },
 "nbformat": 4,
 "nbformat_minor": 0
}
