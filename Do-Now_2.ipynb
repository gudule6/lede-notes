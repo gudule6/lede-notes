{
 "cells": [
  {
   "cell_type": "markdown",
   "metadata": {},
   "source": [
    "#Do Now 2 - Reviewing conditionals, dictionaries, lists\n",
    "___"
   ]
  },
  {
   "cell_type": "markdown",
   "metadata": {},
   "source": [
    "###June 3, 2015"
   ]
  },
  {
   "cell_type": "markdown",
   "metadata": {},
   "source": [
    "*Explained step by step (by Fanny Giroud)*"
   ]
  },
  {
   "cell_type": "markdown",
   "metadata": {},
   "source": [
    "1) What three errors can you spot below?\n",
    "\n",
    "`n = 2;\n",
    "if n < 2:\n",
    "  print \"Small\"\n",
    "elif n = 2:\n",
    "  print \"Medium\"\n",
    "else print \"Large\"`\n",
    "\n"
   ]
  },
  {
   "cell_type": "markdown",
   "metadata": {},
   "source": [
    "First of all, there is never any use for a `;` after a variable is set."
   ]
  },
  {
   "cell_type": "markdown",
   "metadata": {},
   "source": [
    "Secondly, when testing a condition... remember to use `==` instead of `=`\n"
   ]
  },
  {
   "cell_type": "markdown",
   "metadata": {},
   "source": [
    "Third error: the `else` and the action that it orders should be on different lines, like this:\n",
    "\n",
    "`else :\n",
    "    print \"Large\" `\n"
   ]
  },
  {
   "cell_type": "markdown",
   "metadata": {},
   "source": [
    "#Dictionaries"
   ]
  },
  {
   "cell_type": "markdown",
   "metadata": {},
   "source": [
    "They work like this: \n",
    "\n",
    "This hot dog dictionary is a list of hot dogs and their charcteristics.\n",
    "\n",
    "`hotdog_dictionary = {'name' : 'Doggy', 'sauce' : 'ketchup', 'onion' : 'yes', 'bread' = 'baguette'}`\n",
    "\n",
    "This dictionary has four keys (on the left) : 'name', 'sauce', 'onion' and 'bread'; which all have one value (on the right). These four keys have values as strings. Let's see about integers:\n"
   ]
  },
  {
   "cell_type": "markdown",
   "metadata": {},
   "source": [
    "2) Given the following code, '11238' is a _____ and 23 is a _________.\n",
    "\n",
    "`{ '11238': 23, '10011': 47 } `\n"
   ]
  },
  {
   "cell_type": "markdown",
   "metadata": {},
   "source": [
    "If you don't know the answer... go read other's people explanations on dictionaries [here](http://www.tutorialspoint.com/python/python_dictionary.htm) !"
   ]
  },
  {
   "cell_type": "markdown",
   "metadata": {},
   "source": [
    "3) How would you add a `'price'` of 4 to our hotdog dictionary? Here is how :\n",
    "\n",
    "`hotdog_dictionary['price'] = 4 `\n",
    "\n",
    "\n",
    "\n"
   ]
  },
  {
   "cell_type": "markdown",
   "metadata": {},
   "source": [
    "Basically, you can put any key in the square brackets and assign a value to it this way. You can't do this for values, though. "
   ]
  },
  {
   "cell_type": "markdown",
   "metadata": {},
   "source": [
    "#Lists"
   ]
  },
  {
   "cell_type": "markdown",
   "metadata": {},
   "source": [
    "They look like this:\n",
    "\n",
    "` sauce = ['ketchup', 'mustard', 'salsa'] `\n",
    "\n",
    "And you can access them like this:\n",
    "\n",
    "`print sauce[0] `\n",
    "\n",
    "*--> Display ketchup*\n",
    "\n",
    "`print sauce[1]`\n",
    "\n",
    "*--> Display mustard*\n",
    "\n",
    "Be careful with this way of counting... it starts at 0 !\n",
    "\n",
    "Good to know: lists have their items in an order, dictionaries don't. So you can't ask for `hotdog_dictionary[0]`, because there is no order in the list of hotdogs in the dictionary."
   ]
  },
  {
   "cell_type": "markdown",
   "metadata": {},
   "source": [
    "We can use a lot of different functions on lists. Read about them [here](http://anandology.com/python-practice-book/working-with-data.html) before you continue."
   ]
  },
  {
   "cell_type": "markdown",
   "metadata": {},
   "source": [
    "4) How can we easily get the total of the list below? How about a count of how many elements are in the list?\n",
    "\n"
   ]
  },
  {
   "cell_type": "markdown",
   "metadata": {},
   "source": [
    "Use the function sum() and len() ... like this:\n"
   ]
  },
  {
   "cell_type": "code",
   "execution_count": 20,
   "metadata": {
    "collapsed": true
   },
   "outputs": [],
   "source": [
    "numbers = [ 1, 2, 3, 4, 5, 6, 7]"
   ]
  },
  {
   "cell_type": "code",
   "execution_count": 21,
   "metadata": {
    "collapsed": false
   },
   "outputs": [
    {
     "name": "stdout",
     "output_type": "stream",
     "text": [
      "28\n",
      "7\n"
     ]
    }
   ],
   "source": [
    "print sum(numbers)\n",
    "print len(numbers)"
   ]
  },
  {
   "cell_type": "markdown",
   "metadata": {},
   "source": [
    "5) How to print the 3rd element of a list named dogs. \n",
    "\n",
    "`print dogs[2] `\n",
    "\n",
    "(because we start at zero in lists!)\n"
   ]
  },
  {
   "cell_type": "markdown",
   "metadata": {},
   "source": [
    "5a) There are two nice functions to access all the keys or all the values and put them in a list. Here is how they work:"
   ]
  },
  {
   "cell_type": "code",
   "execution_count": 34,
   "metadata": {
    "collapsed": false
   },
   "outputs": [
    {
     "name": "stdout",
     "output_type": "stream",
     "text": [
      "['11238', '10011', '10299']\n"
     ]
    }
   ],
   "source": [
    "zip_codes = {'11238': 23, '10011': 47, '10299' : 2 }\n",
    "print zip_codes.keys()"
   ]
  },
  {
   "cell_type": "code",
   "execution_count": 35,
   "metadata": {
    "collapsed": false
   },
   "outputs": [
    {
     "name": "stdout",
     "output_type": "stream",
     "text": [
      "[23, 47, 2]\n"
     ]
    }
   ],
   "source": [
    "print zip_codes.values()"
   ]
  },
  {
   "cell_type": "markdown",
   "metadata": {},
   "source": [
    "#For loops"
   ]
  },
  {
   "cell_type": "markdown",
   "metadata": {},
   "source": [
    "![alt text](http://www.gifbin.com/bin/022013/1360002672_tea_set_infinite_rotation.gif \"Crazy loop animation\")\n"
   ]
  },
  {
   "cell_type": "markdown",
   "metadata": {},
   "source": [
    "This is brain torture right? What we will be learning is way easier.\n",
    "Let's learn by doing."
   ]
  },
  {
   "cell_type": "markdown",
   "metadata": {},
   "source": [
    "5b) Write a for loop that prints all three zip codes on separate lines. \n"
   ]
  },
  {
   "cell_type": "code",
   "execution_count": 36,
   "metadata": {
    "collapsed": false
   },
   "outputs": [
    {
     "name": "stdout",
     "output_type": "stream",
     "text": [
      "11238\n",
      "10011\n",
      "10299\n"
     ]
    }
   ],
   "source": [
    "for zipcode in zip_codes :\n",
    "    print zipcode"
   ]
  },
  {
   "cell_type": "markdown",
   "metadata": {},
   "source": [
    "It doesn't matter what you call the thing in your list, as long as the list name is right!"
   ]
  },
  {
   "cell_type": "code",
   "execution_count": 37,
   "metadata": {
    "collapsed": false
   },
   "outputs": [
    {
     "name": "stdout",
     "output_type": "stream",
     "text": [
      "10299\n",
      "10299\n",
      "10299\n"
     ]
    }
   ],
   "source": [
    "for smoked_salmon in zip_codes :\n",
    "    print zipcode"
   ]
  },
  {
   "cell_type": "markdown",
   "metadata": {},
   "source": [
    "And now, let's learn how to add stuff in the list by going through a loop. You just need a variable for your total, and set it to zero before the loop. Then the loop will add numbers to your total variable. Let's see:"
   ]
  },
  {
   "cell_type": "markdown",
   "metadata": {},
   "source": [
    "6) Given the following list, add together any numbers greater than 10."
   ]
  },
  {
   "cell_type": "code",
   "execution_count": 3,
   "metadata": {
    "collapsed": true
   },
   "outputs": [],
   "source": [
    "values = [20, 30, 10, 5, 99]\n",
    "mytotal = 0\n",
    "for value in values :\n",
    "    if value > 10 :\n",
    "        mytotal = mytotal + value\n",
    "        "
   ]
  },
  {
   "cell_type": "markdown",
   "metadata": {},
   "source": [
    "Does your head hurt? It's normal! Go through this as many times as you need to!"
   ]
  }
 ],
 "metadata": {
  "kernelspec": {
   "display_name": "Python 2",
   "language": "python",
   "name": "python2"
  },
  "language_info": {
   "codemirror_mode": {
    "name": "ipython",
    "version": 2
   },
   "file_extension": ".py",
   "mimetype": "text/x-python",
   "name": "python",
   "nbconvert_exporter": "python",
   "pygments_lexer": "ipython2",
   "version": "2.7.9"
  }
 },
 "nbformat": 4,
 "nbformat_minor": 0
}
